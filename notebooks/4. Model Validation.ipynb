{
 "cells": [
  {
   "attachments": {},
   "cell_type": "markdown",
   "metadata": {},
   "source": [
    "# MEng-Team-Project-ML\n",
    "\n",
    "This notebook contains the validation of our yolov8 model for our dataset."
   ]
  },
  {
   "attachments": {},
   "cell_type": "markdown",
   "metadata": {},
   "source": [
    "## Get Ground Truth and Predicted Datasets"
   ]
  },
  {
   "attachments": {},
   "cell_type": "markdown",
   "metadata": {},
   "source": [
    "### Load COCO Classes"
   ]
  },
  {
   "cell_type": "code",
   "execution_count": 34,
   "metadata": {},
   "outputs": [],
   "source": [
    "COCO_CLASSES = [ 'person', 'bicycle', 'car', 'motorcycle', 'airplane', 'bus', 'train', 'truck', 'boat', 'traffic light',\n",
    "         'fire hydrant', 'stop sign', 'parking meter', 'bench', 'bird', 'cat', 'dog', 'horse', 'sheep', 'cow',\n",
    "         'elephant', 'bear', 'zebra', 'giraffe', 'backpack', 'umbrella', 'handbag', 'tie', 'suitcase', 'frisbee',\n",
    "         'skis', 'snowboard', 'sports ball', 'kite', 'baseball bat', 'baseball glove', 'skateboard', 'surfboard',\n",
    "         'tennis racket', 'bottle', 'wine glass', 'cup', 'fork', 'knife', 'spoon', 'bowl', 'banana', 'apple',\n",
    "         'sandwich', 'orange', 'broccoli', 'carrot', 'hot dog', 'pizza', 'donut', 'cake', 'chair', 'couch',\n",
    "         'potted plant', 'bed', 'dining table', 'toilet', 'tv', 'laptop', 'mouse', 'remote', 'keyboard', 'cell phone',\n",
    "         'microwave', 'oven', 'toaster', 'sink', 'refrigerator', 'book', 'clock', 'vase', 'scissors', 'teddy bear',\n",
    "         'hair drier', 'toothbrush' ]"
   ]
  },
  {
   "attachments": {},
   "cell_type": "markdown",
   "metadata": {},
   "source": [
    "### Load Pre-Saved Predicted Analytical Dataset (SQLite)"
   ]
  },
  {
   "cell_type": "code",
   "execution_count": 35,
   "metadata": {},
   "outputs": [
    {
     "name": "stdout",
     "output_type": "stream",
     "text": [
      "Downloaded successfully!\n"
     ]
    }
   ],
   "source": [
    "import os\n",
    "from traffic_ml.lib.gdrive import get_gdrive_id, download_file_from_google_drive\n",
    "\n",
    "TEST_FILE_FNAME = \"test.db\"\n",
    "TEST_FILE_LINK  = \"https://drive.google.com/file/d/1EEiUSRbU8ehg_UaOJ5x9ci8DTOD-TqrA/view?usp=sharing\"\n",
    "\n",
    "gdrive_id = get_gdrive_id(TEST_FILE_LINK)\n",
    "out = download_file_from_google_drive(gdrive_id, f\"./{TEST_FILE_FNAME}\")\n",
    "\n",
    "if os.path.exists(TEST_FILE_FNAME):\n",
    "    print(\"Downloaded successfully!\")\n",
    "else:\n",
    "    print(f\"Error downloading: {TEST_FILE_FNAME}\")"
   ]
  },
  {
   "attachments": {},
   "cell_type": "markdown",
   "metadata": {},
   "source": [
    "### Load Data into Dataframes"
   ]
  },
  {
   "cell_type": "code",
   "execution_count": 36,
   "metadata": {},
   "outputs": [],
   "source": [
    "import sqlite3\n",
    "import pandas as pd\n",
    "\n",
    "# NOTE: Overwrite this for a local analysis\n",
    "# TEST_FILE_FNAME = \"00001.01350_2022-12-07T15-35-24.000Z.db\"\n",
    "con = sqlite3.connect(\"test.db\")\n",
    "\n",
    "# Detected Objects per Frame\n",
    "detections_df = pd.read_sql_query(\"SELECT * FROM detection;\", con)\n",
    "\n",
    "con.close()"
   ]
  },
  {
   "cell_type": "code",
   "execution_count": 37,
   "metadata": {},
   "outputs": [
    {
     "data": {
      "text/html": [
       "<div>\n",
       "<style scoped>\n",
       "    .dataframe tbody tr th:only-of-type {\n",
       "        vertical-align: middle;\n",
       "    }\n",
       "\n",
       "    .dataframe tbody tr th {\n",
       "        vertical-align: top;\n",
       "    }\n",
       "\n",
       "    .dataframe thead th {\n",
       "        text-align: right;\n",
       "    }\n",
       "</style>\n",
       "<table border=\"1\" class=\"dataframe\">\n",
       "  <thead>\n",
       "    <tr style=\"text-align: right;\">\n",
       "      <th></th>\n",
       "      <th>id</th>\n",
       "      <th>frame</th>\n",
       "      <th>bbox_x</th>\n",
       "      <th>bbox_y</th>\n",
       "      <th>bbox_w</th>\n",
       "      <th>bbox_h</th>\n",
       "      <th>cls</th>\n",
       "      <th>label</th>\n",
       "      <th>conf</th>\n",
       "      <th>det_id</th>\n",
       "    </tr>\n",
       "  </thead>\n",
       "  <tbody>\n",
       "    <tr>\n",
       "      <th>0</th>\n",
       "      <td>1</td>\n",
       "      <td>3</td>\n",
       "      <td>1640.0</td>\n",
       "      <td>184.0</td>\n",
       "      <td>229.0</td>\n",
       "      <td>183.0</td>\n",
       "      <td>5.0</td>\n",
       "      <td>bus</td>\n",
       "      <td>0.913574</td>\n",
       "      <td>1.0</td>\n",
       "    </tr>\n",
       "    <tr>\n",
       "      <th>1</th>\n",
       "      <td>2</td>\n",
       "      <td>3</td>\n",
       "      <td>1508.0</td>\n",
       "      <td>334.0</td>\n",
       "      <td>216.0</td>\n",
       "      <td>128.0</td>\n",
       "      <td>2.0</td>\n",
       "      <td>car</td>\n",
       "      <td>0.906738</td>\n",
       "      <td>2.0</td>\n",
       "    </tr>\n",
       "    <tr>\n",
       "      <th>2</th>\n",
       "      <td>3</td>\n",
       "      <td>3</td>\n",
       "      <td>757.0</td>\n",
       "      <td>305.0</td>\n",
       "      <td>86.0</td>\n",
       "      <td>52.0</td>\n",
       "      <td>2.0</td>\n",
       "      <td>car</td>\n",
       "      <td>0.830078</td>\n",
       "      <td>3.0</td>\n",
       "    </tr>\n",
       "    <tr>\n",
       "      <th>3</th>\n",
       "      <td>4</td>\n",
       "      <td>3</td>\n",
       "      <td>1068.0</td>\n",
       "      <td>302.0</td>\n",
       "      <td>26.0</td>\n",
       "      <td>74.0</td>\n",
       "      <td>0.0</td>\n",
       "      <td>person</td>\n",
       "      <td>0.706543</td>\n",
       "      <td>4.0</td>\n",
       "    </tr>\n",
       "    <tr>\n",
       "      <th>4</th>\n",
       "      <td>5</td>\n",
       "      <td>3</td>\n",
       "      <td>167.0</td>\n",
       "      <td>277.0</td>\n",
       "      <td>236.0</td>\n",
       "      <td>98.0</td>\n",
       "      <td>7.0</td>\n",
       "      <td>truck</td>\n",
       "      <td>0.592773</td>\n",
       "      <td>5.0</td>\n",
       "    </tr>\n",
       "    <tr>\n",
       "      <th>...</th>\n",
       "      <td>...</td>\n",
       "      <td>...</td>\n",
       "      <td>...</td>\n",
       "      <td>...</td>\n",
       "      <td>...</td>\n",
       "      <td>...</td>\n",
       "      <td>...</td>\n",
       "      <td>...</td>\n",
       "      <td>...</td>\n",
       "      <td>...</td>\n",
       "    </tr>\n",
       "    <tr>\n",
       "      <th>6477</th>\n",
       "      <td>6478</td>\n",
       "      <td>900</td>\n",
       "      <td>164.0</td>\n",
       "      <td>272.0</td>\n",
       "      <td>238.0</td>\n",
       "      <td>99.0</td>\n",
       "      <td>7.0</td>\n",
       "      <td>truck</td>\n",
       "      <td>0.550781</td>\n",
       "      <td>49.0</td>\n",
       "    </tr>\n",
       "    <tr>\n",
       "      <th>6478</th>\n",
       "      <td>6479</td>\n",
       "      <td>900</td>\n",
       "      <td>1628.0</td>\n",
       "      <td>281.0</td>\n",
       "      <td>127.0</td>\n",
       "      <td>82.0</td>\n",
       "      <td>2.0</td>\n",
       "      <td>car</td>\n",
       "      <td>0.869629</td>\n",
       "      <td>94.0</td>\n",
       "    </tr>\n",
       "    <tr>\n",
       "      <th>6479</th>\n",
       "      <td>6480</td>\n",
       "      <td>900</td>\n",
       "      <td>1502.0</td>\n",
       "      <td>282.0</td>\n",
       "      <td>25.0</td>\n",
       "      <td>58.0</td>\n",
       "      <td>0.0</td>\n",
       "      <td>person</td>\n",
       "      <td>0.518555</td>\n",
       "      <td>138.0</td>\n",
       "    </tr>\n",
       "    <tr>\n",
       "      <th>6480</th>\n",
       "      <td>6481</td>\n",
       "      <td>900</td>\n",
       "      <td>975.0</td>\n",
       "      <td>309.0</td>\n",
       "      <td>33.0</td>\n",
       "      <td>73.0</td>\n",
       "      <td>0.0</td>\n",
       "      <td>person</td>\n",
       "      <td>0.736328</td>\n",
       "      <td>148.0</td>\n",
       "    </tr>\n",
       "    <tr>\n",
       "      <th>6481</th>\n",
       "      <td>6482</td>\n",
       "      <td>900</td>\n",
       "      <td>859.0</td>\n",
       "      <td>301.0</td>\n",
       "      <td>25.0</td>\n",
       "      <td>91.0</td>\n",
       "      <td>0.0</td>\n",
       "      <td>person</td>\n",
       "      <td>0.682617</td>\n",
       "      <td>153.0</td>\n",
       "    </tr>\n",
       "  </tbody>\n",
       "</table>\n",
       "<p>6482 rows × 10 columns</p>\n",
       "</div>"
      ],
      "text/plain": [
       "        id  frame  bbox_x  bbox_y  bbox_w  bbox_h  cls   label      conf  \\\n",
       "0        1      3  1640.0   184.0   229.0   183.0  5.0     bus  0.913574   \n",
       "1        2      3  1508.0   334.0   216.0   128.0  2.0     car  0.906738   \n",
       "2        3      3   757.0   305.0    86.0    52.0  2.0     car  0.830078   \n",
       "3        4      3  1068.0   302.0    26.0    74.0  0.0  person  0.706543   \n",
       "4        5      3   167.0   277.0   236.0    98.0  7.0   truck  0.592773   \n",
       "...    ...    ...     ...     ...     ...     ...  ...     ...       ...   \n",
       "6477  6478    900   164.0   272.0   238.0    99.0  7.0   truck  0.550781   \n",
       "6478  6479    900  1628.0   281.0   127.0    82.0  2.0     car  0.869629   \n",
       "6479  6480    900  1502.0   282.0    25.0    58.0  0.0  person  0.518555   \n",
       "6480  6481    900   975.0   309.0    33.0    73.0  0.0  person  0.736328   \n",
       "6481  6482    900   859.0   301.0    25.0    91.0  0.0  person  0.682617   \n",
       "\n",
       "      det_id  \n",
       "0        1.0  \n",
       "1        2.0  \n",
       "2        3.0  \n",
       "3        4.0  \n",
       "4        5.0  \n",
       "...      ...  \n",
       "6477    49.0  \n",
       "6478    94.0  \n",
       "6479   138.0  \n",
       "6480   148.0  \n",
       "6481   153.0  \n",
       "\n",
       "[6482 rows x 10 columns]"
      ]
     },
     "execution_count": 37,
     "metadata": {},
     "output_type": "execute_result"
    }
   ],
   "source": [
    "detections_df"
   ]
  },
  {
   "cell_type": "code",
   "execution_count": 112,
   "metadata": {},
   "outputs": [
    {
     "data": {
      "text/html": [
       "<div>\n",
       "<style scoped>\n",
       "    .dataframe tbody tr th:only-of-type {\n",
       "        vertical-align: middle;\n",
       "    }\n",
       "\n",
       "    .dataframe tbody tr th {\n",
       "        vertical-align: top;\n",
       "    }\n",
       "\n",
       "    .dataframe thead th {\n",
       "        text-align: right;\n",
       "    }\n",
       "</style>\n",
       "<table border=\"1\" class=\"dataframe\">\n",
       "  <thead>\n",
       "    <tr style=\"text-align: right;\">\n",
       "      <th></th>\n",
       "      <th>id</th>\n",
       "      <th>frame</th>\n",
       "      <th>bbox_x</th>\n",
       "      <th>bbox_y</th>\n",
       "      <th>bbox_w</th>\n",
       "      <th>bbox_h</th>\n",
       "      <th>cls</th>\n",
       "      <th>label</th>\n",
       "      <th>conf</th>\n",
       "      <th>det_id</th>\n",
       "    </tr>\n",
       "  </thead>\n",
       "  <tbody>\n",
       "    <tr>\n",
       "      <th>0</th>\n",
       "      <td>1</td>\n",
       "      <td>3</td>\n",
       "      <td>1640.0</td>\n",
       "      <td>184.0</td>\n",
       "      <td>229.0</td>\n",
       "      <td>183.0</td>\n",
       "      <td>5.0</td>\n",
       "      <td>bus</td>\n",
       "      <td>0.913574</td>\n",
       "      <td>1.0</td>\n",
       "    </tr>\n",
       "    <tr>\n",
       "      <th>6</th>\n",
       "      <td>7</td>\n",
       "      <td>4</td>\n",
       "      <td>1635.0</td>\n",
       "      <td>183.0</td>\n",
       "      <td>233.0</td>\n",
       "      <td>185.0</td>\n",
       "      <td>5.0</td>\n",
       "      <td>bus</td>\n",
       "      <td>0.901367</td>\n",
       "      <td>1.0</td>\n",
       "    </tr>\n",
       "    <tr>\n",
       "      <th>12</th>\n",
       "      <td>13</td>\n",
       "      <td>5</td>\n",
       "      <td>1629.0</td>\n",
       "      <td>183.0</td>\n",
       "      <td>239.0</td>\n",
       "      <td>186.0</td>\n",
       "      <td>5.0</td>\n",
       "      <td>bus</td>\n",
       "      <td>0.891113</td>\n",
       "      <td>1.0</td>\n",
       "    </tr>\n",
       "    <tr>\n",
       "      <th>18</th>\n",
       "      <td>19</td>\n",
       "      <td>6</td>\n",
       "      <td>1629.0</td>\n",
       "      <td>183.0</td>\n",
       "      <td>239.0</td>\n",
       "      <td>188.0</td>\n",
       "      <td>5.0</td>\n",
       "      <td>bus</td>\n",
       "      <td>0.898438</td>\n",
       "      <td>1.0</td>\n",
       "    </tr>\n",
       "    <tr>\n",
       "      <th>24</th>\n",
       "      <td>25</td>\n",
       "      <td>7</td>\n",
       "      <td>1623.0</td>\n",
       "      <td>182.0</td>\n",
       "      <td>245.0</td>\n",
       "      <td>191.0</td>\n",
       "      <td>5.0</td>\n",
       "      <td>bus</td>\n",
       "      <td>0.908203</td>\n",
       "      <td>1.0</td>\n",
       "    </tr>\n",
       "  </tbody>\n",
       "</table>\n",
       "</div>"
      ],
      "text/plain": [
       "    id  frame  bbox_x  bbox_y  bbox_w  bbox_h  cls label      conf  det_id\n",
       "0    1      3  1640.0   184.0   229.0   183.0  5.0   bus  0.913574     1.0\n",
       "6    7      4  1635.0   183.0   233.0   185.0  5.0   bus  0.901367     1.0\n",
       "12  13      5  1629.0   183.0   239.0   186.0  5.0   bus  0.891113     1.0\n",
       "18  19      6  1629.0   183.0   239.0   188.0  5.0   bus  0.898438     1.0\n",
       "24  25      7  1623.0   182.0   245.0   191.0  5.0   bus  0.908203     1.0"
      ]
     },
     "execution_count": 112,
     "metadata": {},
     "output_type": "execute_result"
    }
   ],
   "source": [
    "detections_df[(detections_df[\"det_id\"] == 1.0)].head()"
   ]
  },
  {
   "attachments": {},
   "cell_type": "markdown",
   "metadata": {},
   "source": [
    "### Load Ground Truth Analytical Dataset (SQLite)"
   ]
  },
  {
   "cell_type": "code",
   "execution_count": 39,
   "metadata": {},
   "outputs": [
    {
     "name": "stdout",
     "output_type": "stream",
     "text": [
      "Downloaded successfully!\n"
     ]
    }
   ],
   "source": [
    "import os\n",
    "from traffic_ml.lib.gdrive import get_gdrive_id, download_file_from_google_drive\n",
    "\n",
    "TEST_FILE_FNAME = \"test_30.json\"\n",
    "TEST_FILE_LINK  = \"https://drive.google.com/file/d/1-AistYuoir023crLFhhAYMAIf52ucOEr/view?usp=sharing\"\n",
    "\n",
    "gdrive_id = get_gdrive_id(TEST_FILE_LINK)\n",
    "out = download_file_from_google_drive(gdrive_id, f\"./{TEST_FILE_FNAME}\")\n",
    "\n",
    "if os.path.exists(TEST_FILE_FNAME):\n",
    "    print(\"Downloaded successfully!\")\n",
    "else:\n",
    "    print(f\"Error downloading: {TEST_FILE_FNAME}\")"
   ]
  },
  {
   "attachments": {},
   "cell_type": "markdown",
   "metadata": {},
   "source": [
    "### Load Ground Truth"
   ]
  },
  {
   "cell_type": "code",
   "execution_count": 40,
   "metadata": {},
   "outputs": [],
   "source": [
    "from traffic_ml.lib.convertor import Annotations"
   ]
  },
  {
   "cell_type": "code",
   "execution_count": 41,
   "metadata": {},
   "outputs": [],
   "source": [
    "ground_truth_df = Annotations.from_darwin(\"test_30.json\")"
   ]
  },
  {
   "cell_type": "code",
   "execution_count": 110,
   "metadata": {},
   "outputs": [
    {
     "data": {
      "text/html": [
       "<div>\n",
       "<style scoped>\n",
       "    .dataframe tbody tr th:only-of-type {\n",
       "        vertical-align: middle;\n",
       "    }\n",
       "\n",
       "    .dataframe tbody tr th {\n",
       "        vertical-align: top;\n",
       "    }\n",
       "\n",
       "    .dataframe thead th {\n",
       "        text-align: right;\n",
       "    }\n",
       "</style>\n",
       "<table border=\"1\" class=\"dataframe\">\n",
       "  <thead>\n",
       "    <tr style=\"text-align: right;\">\n",
       "      <th></th>\n",
       "      <th>frame</th>\n",
       "      <th>bbox_x</th>\n",
       "      <th>bbox_y</th>\n",
       "      <th>bbox_w</th>\n",
       "      <th>bbox_h</th>\n",
       "      <th>label</th>\n",
       "      <th>conf</th>\n",
       "      <th>det_id</th>\n",
       "    </tr>\n",
       "  </thead>\n",
       "  <tbody>\n",
       "    <tr>\n",
       "      <th>64</th>\n",
       "      <td>3</td>\n",
       "      <td>1067.0</td>\n",
       "      <td>298.0</td>\n",
       "      <td>29.0</td>\n",
       "      <td>80.0</td>\n",
       "      <td>person</td>\n",
       "      <td>1.0</td>\n",
       "      <td>1.0</td>\n",
       "    </tr>\n",
       "    <tr>\n",
       "      <th>1864</th>\n",
       "      <td>3</td>\n",
       "      <td>756.0</td>\n",
       "      <td>302.0</td>\n",
       "      <td>90.0</td>\n",
       "      <td>54.0</td>\n",
       "      <td>car</td>\n",
       "      <td>1.0</td>\n",
       "      <td>4.0</td>\n",
       "    </tr>\n",
       "    <tr>\n",
       "      <th>964</th>\n",
       "      <td>3</td>\n",
       "      <td>918.0</td>\n",
       "      <td>304.0</td>\n",
       "      <td>25.0</td>\n",
       "      <td>60.0</td>\n",
       "      <td>person</td>\n",
       "      <td>1.0</td>\n",
       "      <td>2.0</td>\n",
       "    </tr>\n",
       "    <tr>\n",
       "      <th>3</th>\n",
       "      <td>3</td>\n",
       "      <td>1490.0</td>\n",
       "      <td>328.0</td>\n",
       "      <td>229.0</td>\n",
       "      <td>143.0</td>\n",
       "      <td>car</td>\n",
       "      <td>1.0</td>\n",
       "      <td>0.0</td>\n",
       "    </tr>\n",
       "    <tr>\n",
       "      <th>1731</th>\n",
       "      <td>3</td>\n",
       "      <td>1633.0</td>\n",
       "      <td>183.0</td>\n",
       "      <td>242.0</td>\n",
       "      <td>180.0</td>\n",
       "      <td>bus</td>\n",
       "      <td>1.0</td>\n",
       "      <td>3.0</td>\n",
       "    </tr>\n",
       "    <tr>\n",
       "      <th>...</th>\n",
       "      <td>...</td>\n",
       "      <td>...</td>\n",
       "      <td>...</td>\n",
       "      <td>...</td>\n",
       "      <td>...</td>\n",
       "      <td>...</td>\n",
       "      <td>...</td>\n",
       "      <td>...</td>\n",
       "    </tr>\n",
       "    <tr>\n",
       "      <th>7709</th>\n",
       "      <td>899</td>\n",
       "      <td>1471.0</td>\n",
       "      <td>278.0</td>\n",
       "      <td>19.0</td>\n",
       "      <td>51.0</td>\n",
       "      <td>person</td>\n",
       "      <td>1.0</td>\n",
       "      <td>16.0</td>\n",
       "    </tr>\n",
       "    <tr>\n",
       "      <th>8361</th>\n",
       "      <td>899</td>\n",
       "      <td>859.0</td>\n",
       "      <td>300.0</td>\n",
       "      <td>30.0</td>\n",
       "      <td>96.0</td>\n",
       "      <td>person</td>\n",
       "      <td>1.0</td>\n",
       "      <td>17.0</td>\n",
       "    </tr>\n",
       "    <tr>\n",
       "      <th>3914</th>\n",
       "      <td>899</td>\n",
       "      <td>559.0</td>\n",
       "      <td>281.0</td>\n",
       "      <td>18.0</td>\n",
       "      <td>14.0</td>\n",
       "      <td>car</td>\n",
       "      <td>1.0</td>\n",
       "      <td>7.0</td>\n",
       "    </tr>\n",
       "    <tr>\n",
       "      <th>6965</th>\n",
       "      <td>899</td>\n",
       "      <td>829.0</td>\n",
       "      <td>305.0</td>\n",
       "      <td>43.0</td>\n",
       "      <td>110.0</td>\n",
       "      <td>person</td>\n",
       "      <td>1.0</td>\n",
       "      <td>13.0</td>\n",
       "    </tr>\n",
       "    <tr>\n",
       "      <th>8984</th>\n",
       "      <td>899</td>\n",
       "      <td>1481.0</td>\n",
       "      <td>279.0</td>\n",
       "      <td>22.0</td>\n",
       "      <td>56.0</td>\n",
       "      <td>person</td>\n",
       "      <td>1.0</td>\n",
       "      <td>18.0</td>\n",
       "    </tr>\n",
       "  </tbody>\n",
       "</table>\n",
       "<p>8967 rows × 8 columns</p>\n",
       "</div>"
      ],
      "text/plain": [
       "      frame  bbox_x  bbox_y  bbox_w  bbox_h   label  conf  det_id\n",
       "64        3  1067.0   298.0    29.0    80.0  person   1.0     1.0\n",
       "1864      3   756.0   302.0    90.0    54.0     car   1.0     4.0\n",
       "964       3   918.0   304.0    25.0    60.0  person   1.0     2.0\n",
       "3         3  1490.0   328.0   229.0   143.0     car   1.0     0.0\n",
       "1731      3  1633.0   183.0   242.0   180.0     bus   1.0     3.0\n",
       "...     ...     ...     ...     ...     ...     ...   ...     ...\n",
       "7709    899  1471.0   278.0    19.0    51.0  person   1.0    16.0\n",
       "8361    899   859.0   300.0    30.0    96.0  person   1.0    17.0\n",
       "3914    899   559.0   281.0    18.0    14.0     car   1.0     7.0\n",
       "6965    899   829.0   305.0    43.0   110.0  person   1.0    13.0\n",
       "8984    899  1481.0   279.0    22.0    56.0  person   1.0    18.0\n",
       "\n",
       "[8967 rows x 8 columns]"
      ]
     },
     "execution_count": 110,
     "metadata": {},
     "output_type": "execute_result"
    }
   ],
   "source": [
    "ground_truth_df[ground_truth_df[\"frame\"] >= 3]"
   ]
  },
  {
   "attachments": {},
   "cell_type": "markdown",
   "metadata": {},
   "source": [
    "## Data Validation"
   ]
  },
  {
   "attachments": {},
   "cell_type": "markdown",
   "metadata": {},
   "source": [
    "This section performs validation of our YOLOv8 detection model and StrongSORT tracker algorithm together. We use the ground truth annotated JSON file along with the output SQL from the det/tracking module and convert both to MOT16 format. We then use `motmetrics`, which is a library that automatically calculates MOT (Multi-Object Tracking) statistics"
   ]
  },
  {
   "attachments": {},
   "cell_type": "markdown",
   "metadata": {},
   "source": [
    "### MOT Metrics Method"
   ]
  },
  {
   "cell_type": "code",
   "execution_count": 103,
   "metadata": {},
   "outputs": [],
   "source": [
    "def motMetricsEnhancedCalculator(gtSource, tSource):\n",
    "  # import required packages\n",
    "  import motmetrics as mm\n",
    "  import numpy as np\n",
    "  \n",
    "  # load ground truth\n",
    "  gt = np.loadtxt(gtSource, delimiter=',')\n",
    "\n",
    "  # load tracking output\n",
    "  t = np.loadtxt(tSource, delimiter=',')\n",
    "\n",
    "  # Create an accumulator that will be updated during each frame\n",
    "  acc = mm.MOTAccumulator(auto_id=True)\n",
    "\n",
    "  # Max frame number maybe different for gt and t files\n",
    "  for frame in range(int(gt[:,0].max())):\n",
    "    frame += 1 # detection and frame numbers begin at 1\n",
    "\n",
    "    # select id, x, y, width, height for current frame\n",
    "    # required format for distance calculation is X, Y, Width, Height \\\n",
    "    # We already have this format\n",
    "    gt_dets = gt[gt[:,0]==frame,1:6] # select all detections in gt\n",
    "    t_dets = t[t[:,0]==frame,1:6] # select all detections in t\n",
    "\n",
    "    C = mm.distances.iou_matrix(gt_dets[:,1:], t_dets[:,1:], \\\n",
    "                                max_iou=0.5) # format: gt, t\n",
    "\n",
    "    # Call update once for per frame.\n",
    "    # format: gt object ids, t object ids, distance\n",
    "    acc.update(gt_dets[:,0].astype('int').tolist(), \\\n",
    "              t_dets[:,0].astype('int').tolist(), C)\n",
    "\n",
    "  mh = mm.metrics.create()\n",
    "\n",
    "  summary = mh.compute(acc, metrics=['num_frames', 'idf1', 'idp', 'idr', \\\n",
    "                                     'recall', 'precision', 'num_objects', \\\n",
    "                                     'mostly_tracked', 'partially_tracked', \\\n",
    "                                     'mostly_lost', 'num_false_positives', \\\n",
    "                                     'num_misses', 'num_switches', \\\n",
    "                                     'num_fragmentations', 'mota', 'motp' \\\n",
    "                                    ], \\\n",
    "                      name='acc')\n",
    "\n",
    "  strsummary = mm.io.render_summary(\n",
    "      summary,\n",
    "      #formatters={'mota' : '{:.2%}'.format},\n",
    "      namemap={'idf1': 'IDF1', 'idp': 'IDP', 'idr': 'IDR', 'recall': 'Rcll', \\\n",
    "               'precision': 'Prcn', 'num_objects': 'GT', \\\n",
    "               'mostly_tracked' : 'MT', 'partially_tracked': 'PT', \\\n",
    "               'mostly_lost' : 'ML', 'num_false_positives': 'FP', \\\n",
    "               'num_misses': 'FN', 'num_switches' : 'IDsw', \\\n",
    "               'num_fragmentations' : 'FM', 'mota': 'MOTA', 'motp' : 'MOTP',  \\\n",
    "              }\n",
    "  )\n",
    "  print(strsummary)"
   ]
  },
  {
   "attachments": {},
   "cell_type": "markdown",
   "metadata": {},
   "source": [
    "### Convert DataFrames to MOT16 Format"
   ]
  },
  {
   "attachments": {},
   "cell_type": "markdown",
   "metadata": {},
   "source": [
    "`<frame number>, <object id>, <bb_left>, <bb_top>, <bb_width>, <bb_height>, <confidence>, <x>, <y>, <z>`\\\n",
    "GT: `<frame number>, <class id>, <bb_left>, <bb_top>, <bb_width>, <bb_height>, 1, -1, -1, -1`\\\n",
    "PRED: `<frame number>, <class id>, <bb_left>, <bb_top>, <bb_width>, <bb_height>, conf, -1, -1, -1`"
   ]
  },
  {
   "cell_type": "code",
   "execution_count": 104,
   "metadata": {},
   "outputs": [
    {
     "data": {
      "text/plain": [
       "Index(['frame', 'bbox_x', 'bbox_y', 'bbox_w', 'bbox_h', 'label', 'conf',\n",
       "       'det_id'],\n",
       "      dtype='object')"
      ]
     },
     "execution_count": 104,
     "metadata": {},
     "output_type": "execute_result"
    }
   ],
   "source": [
    "ground_truth_df.columns"
   ]
  },
  {
   "cell_type": "code",
   "execution_count": 105,
   "metadata": {},
   "outputs": [],
   "source": [
    "def convert_row_to_mot16(row):\n",
    "    frame_idx = str(row[\"frame\"] + 1)\n",
    "    x         = str(row[\"bbox_x\"])\n",
    "    y         = str(row[\"bbox_y\"])\n",
    "    w         = str(row[\"bbox_w\"])\n",
    "    h         = str(row[\"bbox_h\"])\n",
    "    l_id      = str(COCO_CLASSES.index(row[\"label\"]))\n",
    "    c         = str(row[\"conf\"])\n",
    "    out = \",\".join([\n",
    "        frame_idx,\n",
    "        l_id,\n",
    "        x,\n",
    "        y,\n",
    "        w,\n",
    "        h,\n",
    "        c,\n",
    "        str(-1),\n",
    "        str(-1),\n",
    "        str(-1)])\n",
    "    return out\n",
    "\n",
    "def convert_to_mot16(analytics_df):\n",
    "    lines = analytics_df.apply(lambda row: convert_row_to_mot16(row), axis=1)\n",
    "    out   = \"\\n\".join(lines)\n",
    "    return out"
   ]
  },
  {
   "attachments": {},
   "cell_type": "markdown",
   "metadata": {},
   "source": [
    "### Entire DataFrames"
   ]
  },
  {
   "cell_type": "code",
   "execution_count": 106,
   "metadata": {},
   "outputs": [],
   "source": [
    "# Convert\n",
    "ground_truth_mot16 = convert_to_mot16(ground_truth_df)\n",
    "\n",
    "# Save\n",
    "with open(\"ground_truth_mot16.txt\", \"w\") as f:\n",
    "    f.write(ground_truth_mot16)"
   ]
  },
  {
   "cell_type": "code",
   "execution_count": 107,
   "metadata": {},
   "outputs": [],
   "source": [
    "# Convert\n",
    "pred_mot16 = convert_to_mot16(detections_df)\n",
    "\n",
    "# Save\n",
    "with open(\"pred_mot16.txt\", \"w\") as f:\n",
    "    f.write(pred_mot16)"
   ]
  },
  {
   "attachments": {},
   "cell_type": "markdown",
   "metadata": {},
   "source": [
    "### Sanity Test - Validation (GT vs GT)"
   ]
  },
  {
   "cell_type": "code",
   "execution_count": 108,
   "metadata": {},
   "outputs": [
    {
     "name": "stdout",
     "output_type": "stream",
     "text": [
      "     num_frames      IDF1       IDP       IDR  Rcll  Prcn    GT  MT  PT  ML  FP  FN  IDsw  FM  MOTA  MOTP\n",
      "acc         900  1.820812  1.820812  1.820812   1.0   1.0  8985   4   0   0   0   0     0   0   1.0   0.0\n"
     ]
    }
   ],
   "source": [
    "motMetricsEnhancedCalculator(\n",
    "    \"ground_truth_mot16.txt\",\n",
    "    \"ground_truth_mot16.txt\")"
   ]
  },
  {
   "attachments": {},
   "cell_type": "markdown",
   "metadata": {},
   "source": [
    "### Real - Validation (GT vs Pred)"
   ]
  },
  {
   "cell_type": "code",
   "execution_count": 109,
   "metadata": {},
   "outputs": [
    {
     "name": "stdout",
     "output_type": "stream",
     "text": [
      "     num_frames      IDF1       IDP     IDR      Rcll      Prcn    GT  MT  PT  ML    FP    FN  IDsw    FM      MOTA      MOTP\n",
      "acc         900  1.588254  1.390015  1.3665  0.606121  0.840951  8985   1   2   1  1030  3539    34  1151  0.487702  0.191918\n"
     ]
    }
   ],
   "source": [
    "motMetricsEnhancedCalculator(\n",
    "    \"ground_truth_mot16.txt\",\n",
    "    \"pred_mot16.txt\")"
   ]
  }
 ],
 "metadata": {
  "kernelspec": {
   "display_name": "Python 3",
   "language": "python",
   "name": "python3"
  },
  "language_info": {
   "codemirror_mode": {
    "name": "ipython",
    "version": 3
   },
   "file_extension": ".py",
   "mimetype": "text/x-python",
   "name": "python",
   "nbconvert_exporter": "python",
   "pygments_lexer": "ipython3",
   "version": "3.9.9"
  },
  "orig_nbformat": 4,
  "vscode": {
   "interpreter": {
    "hash": "28453d1081d3c550fce4dd227bac61cebcdf565b50505afc80cae3c0cf61cf22"
   }
  }
 },
 "nbformat": 4,
 "nbformat_minor": 2
}
