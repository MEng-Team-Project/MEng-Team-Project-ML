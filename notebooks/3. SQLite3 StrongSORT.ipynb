{
 "cells": [
  {
   "attachments": {},
   "cell_type": "markdown",
   "metadata": {},
   "source": [
    "# MEng-Team-Project-ML\n",
    "\n",
    "This notebook contains the initial analysis of SQLite DB files generated \\\n",
    "by our ML system as of February 2022 (refer to git commit for exact \\\n",
    "version).\n",
    "\n",
    "Each one of our key objectives is far easier to implement than before because\\\n",
    "the StrongSORT algorithm is very performant, and easy to calibrate for our use\\\n",
    "case.\n",
    "- Object Identification \n",
    "  - This objective is the easiest to implement as we have the predicted \\\n",
    "    object along with it's bounding box per frame.\n",
    "- Object Count\n",
    "  - For this objective, we just count the number of unique IDs across time. The \\\n",
    "    lower the IDs (identity switching) and higher the AssA (association accuracy) \\\n",
    "    of our model for our dataset, the more reliable this object count will be, and \\\n",
    "    less post-processing of the analytics will be required.\n",
    "- Object Tracking\n",
    "  - For each object which is being successfully tracked and ID'd, we track its \\\n",
    "    detected bounding box across time and see which boundaries of the video footage \\\n",
    "    it's intersecting with to see which routes it's going from and to."
   ]
  },
  {
   "attachments": {},
   "cell_type": "markdown",
   "metadata": {},
   "source": [
    "## Load Dataset"
   ]
  },
  {
   "attachments": {},
   "cell_type": "markdown",
   "metadata": {},
   "source": [
    "### Load COCO Classes"
   ]
  },
  {
   "cell_type": "code",
   "execution_count": 1,
   "metadata": {},
   "outputs": [],
   "source": [
    "COCO_CLASSES = [ 'person', 'bicycle', 'car', 'motorcycle', 'airplane', 'bus', 'train', 'truck', 'boat', 'traffic light',\n",
    "         'fire hydrant', 'stop sign', 'parking meter', 'bench', 'bird', 'cat', 'dog', 'horse', 'sheep', 'cow',\n",
    "         'elephant', 'bear', 'zebra', 'giraffe', 'backpack', 'umbrella', 'handbag', 'tie', 'suitcase', 'frisbee',\n",
    "         'skis', 'snowboard', 'sports ball', 'kite', 'baseball bat', 'baseball glove', 'skateboard', 'surfboard',\n",
    "         'tennis racket', 'bottle', 'wine glass', 'cup', 'fork', 'knife', 'spoon', 'bowl', 'banana', 'apple',\n",
    "         'sandwich', 'orange', 'broccoli', 'carrot', 'hot dog', 'pizza', 'donut', 'cake', 'chair', 'couch',\n",
    "         'potted plant', 'bed', 'dining table', 'toilet', 'tv', 'laptop', 'mouse', 'remote', 'keyboard', 'cell phone',\n",
    "         'microwave', 'oven', 'toaster', 'sink', 'refrigerator', 'book', 'clock', 'vase', 'scissors', 'teddy bear',\n",
    "         'hair drier', 'toothbrush' ]"
   ]
  },
  {
   "attachments": {},
   "cell_type": "markdown",
   "metadata": {},
   "source": [
    "### Load Pre-Saved Analytical Dataset (SQLite)"
   ]
  },
  {
   "cell_type": "code",
   "execution_count": 2,
   "metadata": {},
   "outputs": [
    {
     "name": "stdout",
     "output_type": "stream",
     "text": [
      "Downloaded successfully!\n"
     ]
    }
   ],
   "source": [
    "import os\n",
    "from traffic_ml.lib.gdrive import get_gdrive_id, download_file_from_google_drive\n",
    "\n",
    "TEST_FILE_FNAME = \"tfl_snow.db\"\n",
    "TEST_FILE_LINK  = \"https://drive.google.com/file/d/1c7TE4w39T-fEKqq8DbO8NCsK-N5c3MO5/view?usp=sharing\"\n",
    "\n",
    "gdrive_id = get_gdrive_id(TEST_FILE_LINK)\n",
    "out = download_file_from_google_drive(gdrive_id, f\"./{TEST_FILE_FNAME}\")\n",
    "\n",
    "if os.path.exists(TEST_FILE_FNAME):\n",
    "    print(\"Downloaded successfully!\")\n",
    "else:\n",
    "    print(f\"Error downloading: {TEST_FILE_FNAME}\")"
   ]
  },
  {
   "attachments": {},
   "cell_type": "markdown",
   "metadata": {},
   "source": [
    "## Data Analysis"
   ]
  },
  {
   "attachments": {},
   "cell_type": "markdown",
   "metadata": {},
   "source": [
    "### Load Data into Dataframes"
   ]
  },
  {
   "cell_type": "code",
   "execution_count": 3,
   "metadata": {},
   "outputs": [],
   "source": [
    "import sqlite3\n",
    "import pandas as pd\n",
    "\n",
    "con = sqlite3.connect(TEST_FILE_FNAME)\n",
    "\n",
    "# Detected Objects per Frame\n",
    "detections_df = pd.read_sql_query(\"SELECT * FROM detection;\", con)\n",
    "\n",
    "con.close()"
   ]
  },
  {
   "attachments": {},
   "cell_type": "markdown",
   "metadata": {},
   "source": [
    "### Detection Count (per Frame)"
   ]
  },
  {
   "cell_type": "code",
   "execution_count": 4,
   "metadata": {},
   "outputs": [
    {
     "data": {
      "text/plain": [
       "<matplotlib.legend.Legend at 0x13fb2e023d0>"
      ]
     },
     "execution_count": 4,
     "metadata": {},
     "output_type": "execute_result"
    },
    {
     "data": {
      "image/png": "[encoded data removed]",
      "text/plain": [
       "<Figure size 1080x504 with 1 Axes>"
      ]
     },
     "metadata": {
      "needs_background": "light"
     },
     "output_type": "display_data"
    }
   ],
   "source": [
    "import matplotlib.pyplot as plt\n",
    "\n",
    "plt.rcParams[\"figure.figsize\"] = (15,7)\n",
    "\n",
    "det_count = detections_df[\"frame\"].value_counts().sort_index()\n",
    "\n",
    "plt.title(\"Detection Count (per Frame)\")\n",
    "plt.plot(det_count, label=\"Detections\")\n",
    "\n",
    "plt.legend()"
   ]
  }
 ],
 "metadata": {
  "kernelspec": {
   "display_name": "Python 3",
   "language": "python",
   "name": "python3"
  },
  "language_info": {
   "codemirror_mode": {
    "name": "ipython",
    "version": 3
   },
   "file_extension": ".py",
   "mimetype": "text/x-python",
   "name": "python",
   "nbconvert_exporter": "python",
   "pygments_lexer": "ipython3",
   "version": "3.9.9"
  },
  "orig_nbformat": 4,
  "vscode": {
   "interpreter": {
    "hash": "28453d1081d3c550fce4dd227bac61cebcdf565b50505afc80cae3c0cf61cf22"
   }
  }
 },
 "nbformat": 4,
 "nbformat_minor": 2
}
