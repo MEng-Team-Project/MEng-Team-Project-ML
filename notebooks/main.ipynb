{
 "cells": [
  {
   "attachments": {},
   "cell_type": "markdown",
   "metadata": {},
   "source": [
    "# MEng-Team-Project-ML\n",
    "\n",
    "This notebook contains the initial analysis of JSON files generated \\\n",
    "by our ML system as of December 2022 (refer to git commit for exact \\\n",
    "version)."
   ]
  },
  {
   "attachments": {},
   "cell_type": "markdown",
   "metadata": {},
   "source": [
    "## Load Dataset"
   ]
  },
  {
   "attachments": {},
   "cell_type": "markdown",
   "metadata": {},
   "source": [
    "### Load COCO Classes"
   ]
  },
  {
   "cell_type": "code",
   "execution_count": 112,
   "metadata": {},
   "outputs": [],
   "source": [
    "import yaml\n",
    "\n",
    "COCO_YAML_PATH = \"../yolov7-segmentation/data/coco.yaml\"\n",
    "\n",
    "def load_coco_classes(coco_settings):\n",
    "    with open(coco_settings, \"r\") as stream:\n",
    "        try:\n",
    "            coco_data = yaml.safe_load(stream)\n",
    "            coco_data = coco_data[\"names\"]\n",
    "            return coco_data\n",
    "        except yaml.YAMLError as exc:\n",
    "            print(exc)\n",
    "\n",
    "COCO_CLASSES = load_coco_classes(COCO_YAML_PATH)"
   ]
  },
  {
   "attachments": {},
   "cell_type": "markdown",
   "metadata": {},
   "source": [
    "### Load Pre-Saved Analytical Dataset"
   ]
  },
  {
   "cell_type": "code",
   "execution_count": 113,
   "metadata": {},
   "outputs": [
    {
     "name": "stdout",
     "output_type": "stream",
     "text": [
      "len(info_fis), len(track_fis), len(other_fis): 261 261 261\n"
     ]
    },
    {
     "data": {
      "text/plain": [
       "261"
      ]
     },
     "execution_count": 113,
     "metadata": {},
     "output_type": "execute_result"
    }
   ],
   "source": [
    "import os\n",
    "dataset_dir = \\\n",
    "    \"C:/Users/win8t/OneDrive/Desktop/projects/\" + \\\n",
    "    \"MEng-Team-Project-ML/yolov7-segmentation/runs/predict-seg/exp/labels\"\n",
    "fis       = os.listdir(dataset_dir)\n",
    "fis.sort(key=len)\n",
    "info_fis    = [fi for fi in fis if \"_info\" in fi]\n",
    "track_fis   = [fi for fi in fis if \"_track\" in fi]\n",
    "other_fis   = [fi for fi in fis if not \"_track\" in fi and not \"_info\" in fi]\n",
    "frame_count = max([int(fi.split(\"_\")[-1].split(\".json\")[0]) for fi in other_fis])\n",
    "print(\"len(info_fis), len(track_fis), len(other_fis):\", len(info_fis), len(track_fis), len(other_fis))\n",
    "frame_count"
   ]
  },
  {
   "cell_type": "code",
   "execution_count": 114,
   "metadata": {},
   "outputs": [],
   "source": [
    "import json\n",
    "\n",
    "def load_frame(frame):\n",
    "    # frame += 1\n",
    "    \n",
    "    get_frame   = lambda i: (info_fis[i], track_fis[i], other_fis[i])\n",
    "    first_frame = get_frame(frame)\n",
    "    \n",
    "    # print(os.path.join(dataset_dir, first_frame[0]))\n",
    "    with open(os.path.join(dataset_dir, first_frame[0])) as f:\n",
    "        first_frame_info = json.loads(f.read())\n",
    "\n",
    "    # print(os.path.join(dataset_dir, first_frame[1]))\n",
    "    with open(os.path.join(dataset_dir, first_frame[1])) as f:\n",
    "        first_frame_tracks = json.loads(f.read())\n",
    "\n",
    "    # print(os.path.join(dataset_dir, first_frame[2]))\n",
    "    with open(os.path.join(dataset_dir, first_frame[2])) as f:\n",
    "        lines = f.read().split(\"\\n\")\n",
    "        lines = list(filter(None, lines))\n",
    "        content = \"[\" + \",\".join(lines) + \"]\"\n",
    "        first_frame_base = json.loads(content)\n",
    "    \n",
    "    return first_frame_info, first_frame_tracks, first_frame_base"
   ]
  },
  {
   "cell_type": "code",
   "execution_count": 115,
   "metadata": {},
   "outputs": [
    {
     "name": "stdout",
     "output_type": "stream",
     "text": [
      "len(frames): 261\n"
     ]
    }
   ],
   "source": [
    "frames = []\n",
    "for cur_frame in range(frame_count):\n",
    "    frames.append(load_frame(cur_frame))\n",
    "print(\"len(frames):\", len(frames))"
   ]
  },
  {
   "attachments": {},
   "cell_type": "markdown",
   "metadata": {},
   "source": [
    "## Data Analysis"
   ]
  },
  {
   "attachments": {},
   "cell_type": "markdown",
   "metadata": {},
   "source": [
    "## Object Total Count (per Frame)"
   ]
  },
  {
   "cell_type": "code",
   "execution_count": 119,
   "metadata": {},
   "outputs": [
    {
     "data": {
      "text/plain": [
       "[<matplotlib.lines.Line2D at 0x2824433adf0>]"
      ]
     },
     "execution_count": 119,
     "metadata": {},
     "output_type": "execute_result"
    },
    {
     "data": {
      "image/png": "[encoded data removed]",
      "text/plain": [
       "<Figure size 432x288 with 1 Axes>"
      ]
     },
     "metadata": {
      "needs_background": "light"
     },
     "output_type": "display_data"
    }
   ],
   "source": [
    "import matplotlib.pyplot as plt\n",
    "obj_counts = [len(frame[-1])\n",
    "              for frame in frames]\n",
    "plt.title(\"Total Detected Objects (per Frame)\")\n",
    "plt.plot(obj_counts)"
   ]
  },
  {
   "attachments": {},
   "cell_type": "markdown",
   "metadata": {},
   "source": [
    "### Object Count"
   ]
  },
  {
   "cell_type": "code",
   "execution_count": 116,
   "metadata": {},
   "outputs": [
    {
     "name": "stdout",
     "output_type": "stream",
     "text": [
      "13 16 13\n"
     ]
    }
   ],
   "source": [
    "last_frame_info, last_frame_track, last_frame_base = frames[50]\n",
    "print(len(last_frame_info[\"infos\"]), len(last_frame_track[\"routes\"]), len(last_frame_base))"
   ]
  },
  {
   "cell_type": "code",
   "execution_count": 117,
   "metadata": {},
   "outputs": [
    {
     "data": {
      "text/plain": [
       "{'infos': [{'bbox': {'x1': '124', 'y1': '80', 'x2': '151', 'y2': '128'},\n",
       "   'label': '29',\n",
       "   'anchor': {'x': '138', 'y': '104'}},\n",
       "  {'bbox': {'x1': '128', 'y1': '128', 'x2': '163', 'y2': '166'},\n",
       "   'label': '28',\n",
       "   'anchor': {'x': '145', 'y': '147'}},\n",
       "  {'bbox': {'x1': '101', 'y1': '192', 'x2': '152', 'y2': '236'},\n",
       "   'label': '24',\n",
       "   'anchor': {'x': '126', 'y': '214'}},\n",
       "  {'bbox': {'x1': '40', 'y1': '132', 'x2': '49', 'y2': '155'},\n",
       "   'label': '18',\n",
       "   'anchor': {'x': '44', 'y': '143'}},\n",
       "  {'bbox': {'x1': '161', 'y1': '82', 'x2': '171', 'y2': '95'},\n",
       "   'label': '15',\n",
       "   'anchor': {'x': '166', 'y': '88'}},\n",
       "  {'bbox': {'x1': '151', 'y1': '70', 'x2': '167', 'y2': '88'},\n",
       "   'label': '11',\n",
       "   'anchor': {'x': '159', 'y': '79'}},\n",
       "  {'bbox': {'x1': '167', 'y1': '107', 'x2': '204', 'y2': '124'},\n",
       "   'label': '10',\n",
       "   'anchor': {'x': '185', 'y': '115'}},\n",
       "  {'bbox': {'x1': '61', 'y1': '117', 'x2': '68', 'y2': '136'},\n",
       "   'label': '9',\n",
       "   'anchor': {'x': '65', 'y': '127'}},\n",
       "  {'bbox': {'x1': '68', 'y1': '118', 'x2': '75', 'y2': '135'},\n",
       "   'label': '7',\n",
       "   'anchor': {'x': '71', 'y': '126'}},\n",
       "  {'bbox': {'x1': '12', 'y1': '164', 'x2': '25', 'y2': '196'},\n",
       "   'label': '6',\n",
       "   'anchor': {'x': '19', 'y': '180'}},\n",
       "  {'bbox': {'x1': '124', 'y1': '80', 'x2': '151', 'y2': '127'},\n",
       "   'label': '4',\n",
       "   'anchor': {'x': '138', 'y': '104'}},\n",
       "  {'bbox': {'x1': '292', 'y1': '158', 'x2': '303', 'y2': '190'},\n",
       "   'label': '3',\n",
       "   'anchor': {'x': '298', 'y': '174'}},\n",
       "  {'bbox': {'x1': '214', 'y1': '153', 'x2': '249', 'y2': '185'},\n",
       "   'label': '1',\n",
       "   'anchor': {'x': '232', 'y': '169'}}]}"
      ]
     },
     "execution_count": 117,
     "metadata": {},
     "output_type": "execute_result"
    }
   ],
   "source": [
    "last_frame_info\n",
    "#last_frame_track\n",
    "#last_frame_base"
   ]
  }
 ],
 "metadata": {
  "kernelspec": {
   "display_name": "Python 3",
   "language": "python",
   "name": "python3"
  },
  "language_info": {
   "codemirror_mode": {
    "name": "ipython",
    "version": 3
   },
   "file_extension": ".py",
   "mimetype": "text/x-python",
   "name": "python",
   "nbconvert_exporter": "python",
   "pygments_lexer": "ipython3",
   "version": "3.9.9"
  },
  "orig_nbformat": 4,
  "vscode": {
   "interpreter": {
    "hash": "28453d1081d3c550fce4dd227bac61cebcdf565b50505afc80cae3c0cf61cf22"
   }
  }
 },
 "nbformat": 4,
 "nbformat_minor": 2
}
